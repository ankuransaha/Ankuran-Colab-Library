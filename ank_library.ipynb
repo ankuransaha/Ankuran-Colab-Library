{
  "nbformat": 4,
  "nbformat_minor": 0,
  "metadata": {
    "colab": {
      "provenance": [],
      "authorship_tag": "ABX9TyMmjuuzQb48FBkM3WfR82Pd",
      "include_colab_link": true
    },
    "kernelspec": {
      "name": "python3",
      "display_name": "Python 3"
    },
    "language_info": {
      "name": "python"
    }
  },
  "cells": [
    {
      "cell_type": "markdown",
      "metadata": {
        "id": "view-in-github",
        "colab_type": "text"
      },
      "source": [
        "<a href=\"https://colab.research.google.com/github/ankuransaha/Ankuran-Colab-Library/blob/main/ank_library.ipynb\" target=\"_parent\"><img src=\"https://colab.research.google.com/assets/colab-badge.svg\" alt=\"Open In Colab\"/></a>"
      ]
    },
    {
      "cell_type": "code",
      "execution_count": null,
      "metadata": {
        "id": "TjTi_zPK6iS_"
      },
      "outputs": [],
      "source": [
        "# ank_library.py\n",
        "def add_numbers(a, b):\n",
        "   return a + b\n",
        "\n",
        "def subtract_numbers(a, b):\n",
        "    return a - b\n",
        "\n",
        "def multiply_numbers(a, b):\n",
        "    return a * b\n",
        "\n",
        "def divide_numbers(a, b):\n",
        "    if b == 0:\n",
        "      return \"Error: Cannot divide by zero\"\n",
        "    return a / b"
      ]
    }
  ]
}